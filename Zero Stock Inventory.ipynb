{
 "cells": [
  {
   "cell_type": "markdown",
   "metadata": {},
   "source": [
    " Zero Stock Invetory\n"
   ]
  },
  {
   "cell_type": "markdown",
   "metadata": {},
   "source": [
    "Developing a zero stock level strategy\n",
    "\n",
    "We need a user input function on the following:\n",
    "\n",
    "1. Initial product stock level\n",
    "2. Number of months to plan\n",
    "3. Sales quantity for each month\n",
    " "
   ]
  },
  {
   "cell_type": "code",
   "execution_count": null,
   "metadata": {},
   "outputs": [],
   "source": [
    "# Defining the production quantity\n",
    "\n",
    "def production_quantity(num_months):\n",
    "\n",
    "    #Initialize input for initial stock level\n",
    "    initial_stock_level = int(input(\"Please enter initial stock level for production:\"))\n",
    "    while initial_stock_level < 0:\n",
    "        print(\"Initial stock level cannot be negative. Please enter a valid value.\")\n",
    "        initial_stock_level = int(input(\"Please enter initial stock level for production:\"))\n",
    "\n",
    "    # Create a list containing the initial stock level \n",
    "    current_stock_level = [initial_stock_level]\n",
    "    \n",
    "    # Create an empty list to store the planned sales quantity\n",
    "    sales_quantity = []\n",
    "    \n",
    "    # Check initial stock level status\n",
    "    if initial_stock_level > 0:\n",
    "        \n",
    "        # Iterate over each month if initial stock level is greater than zero\n",
    "        for m in range(num_months):\n",
    "\n",
    "            # Initialize input for planned sales quantity\n",
    "            value1 = int(input(f\"Please enter the planned sales quantity for month {m+1}:\"))\n",
    "            while value1 < 0:\n",
    "                print(\"Planned sales quantity cannot be negative. Please enter a valid value.\")\n",
    "                value1 = int(input(f\"Please enter the planned sales quantity for month {m+1}:\"))\n",
    "            sales_quantity.append(value1)\n",
    "            \n",
    "            # production quantity and update current stock level\n",
    "            if sales_quantity[-1] <= current_stock_level[-1]:\n",
    "                value2 = abs(current_stock_level[-1] - sales_quantity[-1])\n",
    "                current_stock_level.append(value2)\n",
    "                value3 = 0                    \n",
    "            elif sales_quantity[-1] > current_stock_level[-1]:\n",
    "                value2 = 0\n",
    "                current_stock_level.append(value2)\n",
    "                value3 = abs(sales_quantity[-1] - current_stock_level[-2])   \n",
    "\n",
    "            # Production quantity for the current month\n",
    "            print(f\"The production quantity for month {m+1} is: {value3}\")\n",
    "            \n",
    "        # Return current stock levels excluding initial stock level\n",
    "        return current_stock_level[1:]  \n",
    "        \n",
    "    else:\n",
    "        print(f\"There is no initial stock for sales\")    \n",
    "    \n",
    "#Validate input for number of months\n",
    "\n",
    "num_months = int(input(\"Please enter the number of months to plan:\"))\n",
    "while num_months <= 0:\n",
    "    print(\"Number of months must be greater than zero. Please enter a valid value.\")\n",
    "    num_months = int(input(\"Please enter initial stock level for production:\"))\n",
    "        \n",
    "# Calculate production for each month\n",
    "production_for_each_month = production_quantity(num_months)\n",
    "\n",
    "\n",
    "print(\"Current stock levels for each month:\", production_for_each_month)"
   ]
  }
 ],
 "metadata": {
  "kernelspec": {
   "display_name": "Python 3",
   "language": "python",
   "name": "python3"
  },
  "language_info": {
   "name": "python",
   "version": "3.10.9"
  }
 },
 "nbformat": 4,
 "nbformat_minor": 2
}
